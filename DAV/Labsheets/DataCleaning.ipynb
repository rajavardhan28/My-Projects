{
  "nbformat": 4,
  "nbformat_minor": 0,
  "metadata": {
    "colab": {
      "provenance": []
    },
    "kernelspec": {
      "name": "python3",
      "display_name": "Python 3"
    },
    "language_info": {
      "name": "python"
    }
  },
  "cells": [
    {
      "cell_type": "code",
      "execution_count": null,
      "metadata": {
        "colab": {
          "base_uri": "https://localhost:8080/"
        },
        "id": "sqbAu3tZMcCH",
        "outputId": "9b9634a9-4480-46fb-ed81-5651554c8097"
      },
      "outputs": [
        {
          "output_type": "stream",
          "name": "stdout",
          "text": [
            "        one       two     three\n",
            "a  0.000884  0.705417  0.081556\n",
            "c -2.065296 -0.238322  1.095847\n",
            "e -0.314658  0.704497  0.263870\n",
            "f  1.798506  2.304304 -0.960389\n",
            "h  0.516183  0.098205  0.727684\n",
            "        one       two     three\n",
            "a  0.000884  0.705417  0.081556\n",
            "c -2.065296 -0.238322  1.095847\n",
            "d       NaN       NaN       NaN\n",
            "e -0.314658  0.704497  0.263870\n",
            "f  1.798506  2.304304 -0.960389\n",
            "g       NaN       NaN       NaN\n",
            "h  0.516183  0.098205  0.727684\n",
            "a    False\n",
            "c    False\n",
            "d     True\n",
            "e    False\n",
            "f    False\n",
            "g     True\n",
            "h    False\n",
            "Name: one, dtype: bool\n"
          ]
        }
      ],
      "source": [
        "import pandas as pd\n",
        "import numpy as np\n",
        "df = pd.DataFrame(np.random.randn(5,3), index = ['a','c','e','f','h'],columns=['one','two','three'])\n",
        "print(df)\n",
        "df = df.reindex(['a','c','d','e','f','g','h'])\n",
        "print(df)\n",
        "print(df['one'].isnull())"
      ]
    },
    {
      "cell_type": "code",
      "source": [
        "import pandas as pd\n",
        "import numpy as np\n",
        "df = pd.DataFrame(np.random.randn(3,3), index = ['a','c','e'],columns=['one','two','three'])\n",
        "df = df.reindex(['a','b','c'])\n",
        "print(df)\n",
        "print(\"NaN replaced with 'o': \")\n",
        "print(df.fillna(0))"
      ],
      "metadata": {
        "colab": {
          "base_uri": "https://localhost:8080/"
        },
        "id": "Axjb25VkOvTc",
        "outputId": "72ab489e-db0b-45b1-b207-8cfb772c885e"
      },
      "execution_count": null,
      "outputs": [
        {
          "output_type": "stream",
          "name": "stdout",
          "text": [
            "        one       two     three\n",
            "a -1.202453 -0.173013 -0.714310\n",
            "b       NaN       NaN       NaN\n",
            "c  1.216030  2.013507 -0.310554\n",
            "NaN replaced with 'o': \n",
            "        one       two     three\n",
            "a -1.202453 -0.173013 -0.714310\n",
            "b  0.000000  0.000000  0.000000\n",
            "c  1.216030  2.013507 -0.310554\n"
          ]
        }
      ]
    },
    {
      "cell_type": "code",
      "source": [
        "import pandas as pd\n",
        "import numpy as np\n",
        "df = pd.DataFrame(np.random.randn(5,3), index = ['a','c','e','f','h'],columns=['one','two','three'])\n",
        "df = df.reindex(['a','b','c','d','e','f','g','h'])\n",
        "print(df.fillna(method='bfill'))"
      ],
      "metadata": {
        "colab": {
          "base_uri": "https://localhost:8080/"
        },
        "id": "OWypzDX-Plrl",
        "outputId": "6ea26e09-aab7-46a1-a407-74017d2deeda"
      },
      "execution_count": null,
      "outputs": [
        {
          "output_type": "stream",
          "name": "stdout",
          "text": [
            "        one       two     three\n",
            "a  0.775282 -0.203727 -1.058455\n",
            "b -0.740298  0.206959 -0.127947\n",
            "c -0.740298  0.206959 -0.127947\n",
            "d -0.714388  1.163635 -0.180698\n",
            "e -0.714388  1.163635 -0.180698\n",
            "f  0.224601  0.717230 -0.361625\n",
            "g  2.278380 -0.585835  0.727239\n",
            "h  2.278380 -0.585835  0.727239\n"
          ]
        }
      ]
    },
    {
      "cell_type": "code",
      "source": [
        "import pandas as pd\n",
        "import numpy as np\n",
        "df = pd.DataFrame(np.random.randn(5,3), index = ['a','c','e','f','h'],columns=['one','two','three'])\n",
        "df = df.reindex(['a','b','c','d','e','f','g','h'])\n",
        "print(df)\n",
        "print(df.dropna())"
      ],
      "metadata": {
        "colab": {
          "base_uri": "https://localhost:8080/"
        },
        "id": "TwUToV_ZQf3f",
        "outputId": "58edc071-27c1-4893-a796-6ee27e77f0d7"
      },
      "execution_count": null,
      "outputs": [
        {
          "output_type": "stream",
          "name": "stdout",
          "text": [
            "        one       two     three\n",
            "a -0.683021 -0.357185  0.989370\n",
            "b       NaN       NaN       NaN\n",
            "c  1.107175 -0.192539 -0.191092\n",
            "d       NaN       NaN       NaN\n",
            "e -1.291157 -1.395421  0.958914\n",
            "f  2.040171 -0.049071 -0.001333\n",
            "g       NaN       NaN       NaN\n",
            "h -0.241636 -2.859298 -0.576326\n",
            "        one       two     three\n",
            "a -0.683021 -0.357185  0.989370\n",
            "c  1.107175 -0.192539 -0.191092\n",
            "e -1.291157 -1.395421  0.958914\n",
            "f  2.040171 -0.049071 -0.001333\n",
            "h -0.241636 -2.859298 -0.576326\n"
          ]
        }
      ]
    },
    {
      "cell_type": "code",
      "source": [
        "import pandas as pd\n",
        "import numpy as np\n",
        "\n",
        "df = pd.read_csv(\"/content/2,1 dataset titanic.csv\")\n",
        "df.info()"
      ],
      "metadata": {
        "colab": {
          "base_uri": "https://localhost:8080/"
        },
        "id": "xS4NWNEIRL-3",
        "outputId": "d01e5e0e-ca8a-4f1b-e843-c2f0e85cf524"
      },
      "execution_count": null,
      "outputs": [
        {
          "output_type": "stream",
          "name": "stdout",
          "text": [
            "<class 'pandas.core.frame.DataFrame'>\n",
            "RangeIndex: 891 entries, 0 to 890\n",
            "Data columns (total 12 columns):\n",
            " #   Column       Non-Null Count  Dtype  \n",
            "---  ------       --------------  -----  \n",
            " 0   PassengerId  891 non-null    int64  \n",
            " 1   Survived     891 non-null    int64  \n",
            " 2   Pclass       891 non-null    int64  \n",
            " 3   Name         891 non-null    object \n",
            " 4   Sex          891 non-null    object \n",
            " 5   Age          714 non-null    float64\n",
            " 6   SibSp        891 non-null    int64  \n",
            " 7   Parch        891 non-null    int64  \n",
            " 8   Ticket       891 non-null    object \n",
            " 9   Fare         891 non-null    float64\n",
            " 10  Cabin        204 non-null    object \n",
            " 11  Embarked     889 non-null    object \n",
            "dtypes: float64(2), int64(5), object(5)\n",
            "memory usage: 83.7+ KB\n"
          ]
        }
      ]
    },
    {
      "cell_type": "code",
      "source": [
        "cols=['Name','Ticket','Cabin']\n",
        "df = df.drop(cols,axis=1)\n",
        "df.info()"
      ],
      "metadata": {
        "id": "AHd0r0SuUB3v",
        "colab": {
          "base_uri": "https://localhost:8080/"
        },
        "outputId": "2c0b4724-bd13-4c96-c4b5-fde5d4fd1a4e"
      },
      "execution_count": null,
      "outputs": [
        {
          "output_type": "stream",
          "name": "stdout",
          "text": [
            "<class 'pandas.core.frame.DataFrame'>\n",
            "RangeIndex: 891 entries, 0 to 890\n",
            "Data columns (total 9 columns):\n",
            " #   Column       Non-Null Count  Dtype  \n",
            "---  ------       --------------  -----  \n",
            " 0   PassengerId  891 non-null    int64  \n",
            " 1   Survived     891 non-null    int64  \n",
            " 2   Pclass       891 non-null    int64  \n",
            " 3   Sex          891 non-null    object \n",
            " 4   Age          714 non-null    float64\n",
            " 5   SibSp        891 non-null    int64  \n",
            " 6   Parch        891 non-null    int64  \n",
            " 7   Fare         891 non-null    float64\n",
            " 8   Embarked     889 non-null    object \n",
            "dtypes: float64(2), int64(5), object(2)\n",
            "memory usage: 62.8+ KB\n"
          ]
        }
      ]
    },
    {
      "cell_type": "code",
      "source": [
        "df = df.dropna()\n",
        "df.info()"
      ],
      "metadata": {
        "colab": {
          "base_uri": "https://localhost:8080/"
        },
        "id": "Rbqdg54wVAWs",
        "outputId": "acdd9896-9b6b-4ce0-a437-34ab6c28ddea"
      },
      "execution_count": null,
      "outputs": [
        {
          "output_type": "stream",
          "name": "stdout",
          "text": [
            "<class 'pandas.core.frame.DataFrame'>\n",
            "Int64Index: 712 entries, 0 to 890\n",
            "Data columns (total 9 columns):\n",
            " #   Column       Non-Null Count  Dtype  \n",
            "---  ------       --------------  -----  \n",
            " 0   PassengerId  712 non-null    int64  \n",
            " 1   Survived     712 non-null    int64  \n",
            " 2   Pclass       712 non-null    int64  \n",
            " 3   Sex          712 non-null    object \n",
            " 4   Age          712 non-null    float64\n",
            " 5   SibSp        712 non-null    int64  \n",
            " 6   Parch        712 non-null    int64  \n",
            " 7   Fare         712 non-null    float64\n",
            " 8   Embarked     712 non-null    object \n",
            "dtypes: float64(2), int64(5), object(2)\n",
            "memory usage: 55.6+ KB\n"
          ]
        }
      ]
    },
    {
      "cell_type": "code",
      "source": [
        "dummies = []\n",
        "cols = ['Pclass','Sex','Embarked']\n",
        "for col in cols:\n",
        "  dummies.append(pd.get_dummies(df[col]))\n",
        "  print(dummies)"
      ],
      "metadata": {
        "colab": {
          "base_uri": "https://localhost:8080/"
        },
        "id": "I_ZIf293VWS6",
        "outputId": "844f9af6-a24f-4a8e-ccba-91de4d59183a"
      },
      "execution_count": null,
      "outputs": [
        {
          "output_type": "stream",
          "name": "stdout",
          "text": [
            "[     1  2  3\n",
            "0    0  0  1\n",
            "1    1  0  0\n",
            "2    0  0  1\n",
            "3    1  0  0\n",
            "4    0  0  1\n",
            "..  .. .. ..\n",
            "885  0  0  1\n",
            "886  0  1  0\n",
            "887  1  0  0\n",
            "889  1  0  0\n",
            "890  0  0  1\n",
            "\n",
            "[712 rows x 3 columns]]\n",
            "[     1  2  3\n",
            "0    0  0  1\n",
            "1    1  0  0\n",
            "2    0  0  1\n",
            "3    1  0  0\n",
            "4    0  0  1\n",
            "..  .. .. ..\n",
            "885  0  0  1\n",
            "886  0  1  0\n",
            "887  1  0  0\n",
            "889  1  0  0\n",
            "890  0  0  1\n",
            "\n",
            "[712 rows x 3 columns],      female  male\n",
            "0         0     1\n",
            "1         1     0\n",
            "2         1     0\n",
            "3         1     0\n",
            "4         0     1\n",
            "..      ...   ...\n",
            "885       1     0\n",
            "886       0     1\n",
            "887       1     0\n",
            "889       0     1\n",
            "890       0     1\n",
            "\n",
            "[712 rows x 2 columns]]\n",
            "[     1  2  3\n",
            "0    0  0  1\n",
            "1    1  0  0\n",
            "2    0  0  1\n",
            "3    1  0  0\n",
            "4    0  0  1\n",
            "..  .. .. ..\n",
            "885  0  0  1\n",
            "886  0  1  0\n",
            "887  1  0  0\n",
            "889  1  0  0\n",
            "890  0  0  1\n",
            "\n",
            "[712 rows x 3 columns],      female  male\n",
            "0         0     1\n",
            "1         1     0\n",
            "2         1     0\n",
            "3         1     0\n",
            "4         0     1\n",
            "..      ...   ...\n",
            "885       1     0\n",
            "886       0     1\n",
            "887       1     0\n",
            "889       0     1\n",
            "890       0     1\n",
            "\n",
            "[712 rows x 2 columns],      C  Q  S\n",
            "0    0  0  1\n",
            "1    1  0  0\n",
            "2    0  0  1\n",
            "3    0  0  1\n",
            "4    0  0  1\n",
            "..  .. .. ..\n",
            "885  0  1  0\n",
            "886  0  0  1\n",
            "887  0  0  1\n",
            "889  1  0  0\n",
            "890  0  1  0\n",
            "\n",
            "[712 rows x 3 columns]]\n"
          ]
        }
      ]
    },
    {
      "cell_type": "code",
      "source": [
        "titanic_dummies = pd.concat(dummies,axis=1)\n",
        "df = pd.concat((df,titanic_dummies),axis=1)\n",
        "df=df.drop(['Pclass','Sex','Embarked'],axis=1)"
      ],
      "metadata": {
        "id": "wBw-PXHt8Jjq"
      },
      "execution_count": null,
      "outputs": []
    },
    {
      "cell_type": "code",
      "source": [
        "df['Age']=df['Age'].interpolate()\n",
        "print(df)"
      ],
      "metadata": {
        "colab": {
          "base_uri": "https://localhost:8080/"
        },
        "id": "TfohURxcC3YV",
        "outputId": "23d439bb-3c0c-4e4c-9de1-d3e28787899e"
      },
      "execution_count": null,
      "outputs": [
        {
          "output_type": "stream",
          "name": "stdout",
          "text": [
            "     PassengerId  Survived   Age  SibSp  Parch     Fare  1  2  3  female  ...  \\\n",
            "0              1         0  22.0      1      0   7.2500  0  0  1       0  ...   \n",
            "1              2         1  38.0      1      0  71.2833  1  0  0       1  ...   \n",
            "2              3         1  26.0      0      0   7.9250  0  0  1       1  ...   \n",
            "3              4         1  35.0      1      0  53.1000  1  0  0       1  ...   \n",
            "4              5         0  35.0      0      0   8.0500  0  0  1       0  ...   \n",
            "..           ...       ...   ...    ...    ...      ... .. .. ..     ...  ...   \n",
            "885          886         0  39.0      0      5  29.1250  0  0  1       1  ...   \n",
            "886          887         0  27.0      0      0  13.0000  0  1  0       0  ...   \n",
            "887          888         1  19.0      0      0  30.0000  1  0  0       1  ...   \n",
            "889          890         1  26.0      0      0  30.0000  1  0  0       0  ...   \n",
            "890          891         0  32.0      0      0   7.7500  0  0  1       0  ...   \n",
            "\n",
            "     Q  S  1  2  3  female  male  C  Q  S  \n",
            "0    0  1  0  0  1       0     1  0  0  1  \n",
            "1    0  0  1  0  0       1     0  1  0  0  \n",
            "2    0  1  0  0  1       1     0  0  0  1  \n",
            "3    0  1  1  0  0       1     0  0  0  1  \n",
            "4    0  1  0  0  1       0     1  0  0  1  \n",
            "..  .. .. .. .. ..     ...   ... .. .. ..  \n",
            "885  1  0  0  0  1       1     0  0  1  0  \n",
            "886  0  1  0  1  0       0     1  0  0  1  \n",
            "887  0  1  1  0  0       1     0  0  0  1  \n",
            "889  0  0  1  0  0       0     1  1  0  0  \n",
            "890  1  0  0  0  1       0     1  0  1  0  \n",
            "\n",
            "[712 rows x 22 columns]\n"
          ]
        }
      ]
    },
    {
      "cell_type": "code",
      "source": [
        "y=(x-min)/(max-min)\n",
        "from sklearn.preprocessing import MinMaxScalar\n",
        "data=[[-1,2],[-1.5,6],[0,10],[1,18]]\n",
        "scalar=MinMaxScalar()\n",
        "print(scalar.fit(data))\n",
        "print('-------------')\n",
        "MinMaxScalar()\n",
        "print(scalar.data_max)\n",
        "prinjt('---------------------')\n",
        "print(scalar.transform(data))"
      ],
      "metadata": {
        "colab": {
          "base_uri": "https://localhost:8080/",
          "height": 211
        },
        "id": "hrkG64gqDEk9",
        "outputId": "e108c686-8618-4548-f5e9-7b0f2988a7e0"
      },
      "execution_count": null,
      "outputs": [
        {
          "output_type": "error",
          "ename": "NameError",
          "evalue": "name 'x' is not defined",
          "traceback": [
            "\u001b[0;31m---------------------------------------------------------------------------\u001b[0m",
            "\u001b[0;31mNameError\u001b[0m                                 Traceback (most recent call last)",
            "\u001b[0;32m<ipython-input-21-d49e8e6597f3>\u001b[0m in \u001b[0;36m<cell line: 1>\u001b[0;34m()\u001b[0m\n\u001b[0;32m----> 1\u001b[0;31m \u001b[0my\u001b[0m\u001b[0;34m=\u001b[0m\u001b[0;34m(\u001b[0m\u001b[0mx\u001b[0m\u001b[0;34m-\u001b[0m\u001b[0mmin\u001b[0m\u001b[0;34m)\u001b[0m\u001b[0;34m/\u001b[0m\u001b[0;34m(\u001b[0m\u001b[0mmax\u001b[0m\u001b[0;34m-\u001b[0m\u001b[0mmin\u001b[0m\u001b[0;34m)\u001b[0m\u001b[0;34m\u001b[0m\u001b[0;34m\u001b[0m\u001b[0m\n\u001b[0m\u001b[1;32m      2\u001b[0m \u001b[0;32mfrom\u001b[0m \u001b[0msklearn\u001b[0m\u001b[0;34m.\u001b[0m\u001b[0mpreprocessing\u001b[0m \u001b[0;32mimport\u001b[0m \u001b[0mMinMaxScalar\u001b[0m\u001b[0;34m\u001b[0m\u001b[0;34m\u001b[0m\u001b[0m\n\u001b[1;32m      3\u001b[0m \u001b[0mdata\u001b[0m\u001b[0;34m=\u001b[0m\u001b[0;34m[\u001b[0m\u001b[0;34m[\u001b[0m\u001b[0;34m-\u001b[0m\u001b[0;36m1\u001b[0m\u001b[0;34m,\u001b[0m\u001b[0;36m2\u001b[0m\u001b[0;34m]\u001b[0m\u001b[0;34m,\u001b[0m\u001b[0;34m[\u001b[0m\u001b[0;34m-\u001b[0m\u001b[0;36m1.5\u001b[0m\u001b[0;34m,\u001b[0m\u001b[0;36m6\u001b[0m\u001b[0;34m]\u001b[0m\u001b[0;34m,\u001b[0m\u001b[0;34m[\u001b[0m\u001b[0;36m0\u001b[0m\u001b[0;34m,\u001b[0m\u001b[0;36m10\u001b[0m\u001b[0;34m]\u001b[0m\u001b[0;34m,\u001b[0m\u001b[0;34m[\u001b[0m\u001b[0;36m1\u001b[0m\u001b[0;34m,\u001b[0m\u001b[0;36m18\u001b[0m\u001b[0;34m]\u001b[0m\u001b[0;34m]\u001b[0m\u001b[0;34m\u001b[0m\u001b[0;34m\u001b[0m\u001b[0m\n\u001b[1;32m      4\u001b[0m \u001b[0mscalar\u001b[0m\u001b[0;34m=\u001b[0m\u001b[0mMinMaxScalar\u001b[0m\u001b[0;34m(\u001b[0m\u001b[0;34m)\u001b[0m\u001b[0;34m\u001b[0m\u001b[0;34m\u001b[0m\u001b[0m\n\u001b[1;32m      5\u001b[0m \u001b[0mprint\u001b[0m\u001b[0;34m(\u001b[0m\u001b[0mscalar\u001b[0m\u001b[0;34m.\u001b[0m\u001b[0mfit\u001b[0m\u001b[0;34m(\u001b[0m\u001b[0mdata\u001b[0m\u001b[0;34m)\u001b[0m\u001b[0;34m)\u001b[0m\u001b[0;34m\u001b[0m\u001b[0;34m\u001b[0m\u001b[0m\n",
            "\u001b[0;31mNameError\u001b[0m: name 'x' is not defined"
          ]
        }
      ]
    },
    {
      "cell_type": "code",
      "source": [
        "from numpy import asarray\n",
        "from sklearn.preprocessing import StandardScalar\n",
        "data = asarray([[100,0.001],[8,0.05],[50,0.005],[88,0.07],[4,0.1]])\n",
        "print(data)\n",
        "scalar=StandardScalar()\n",
        "Scaled=scalar.fit_transform(data)\n",
        "print(Scaled)"
      ],
      "metadata": {
        "colab": {
          "base_uri": "https://localhost:8080/",
          "height": 383
        },
        "id": "5tQzpgNyFGCN",
        "outputId": "2fb66c52-041a-4851-a22a-750c3b326c60"
      },
      "execution_count": null,
      "outputs": [
        {
          "output_type": "error",
          "ename": "ImportError",
          "evalue": "cannot import name 'StandardScalar' from 'sklearn.preprocessing' (/usr/local/lib/python3.10/dist-packages/sklearn/preprocessing/__init__.py)",
          "traceback": [
            "\u001b[0;31m---------------------------------------------------------------------------\u001b[0m",
            "\u001b[0;31mImportError\u001b[0m                               Traceback (most recent call last)",
            "\u001b[0;32m<ipython-input-23-63e52ce0b68f>\u001b[0m in \u001b[0;36m<cell line: 2>\u001b[0;34m()\u001b[0m\n\u001b[1;32m      1\u001b[0m \u001b[0;32mfrom\u001b[0m \u001b[0mnumpy\u001b[0m \u001b[0;32mimport\u001b[0m \u001b[0masarray\u001b[0m\u001b[0;34m\u001b[0m\u001b[0;34m\u001b[0m\u001b[0m\n\u001b[0;32m----> 2\u001b[0;31m \u001b[0;32mfrom\u001b[0m \u001b[0msklearn\u001b[0m\u001b[0;34m.\u001b[0m\u001b[0mpreprocessing\u001b[0m \u001b[0;32mimport\u001b[0m \u001b[0mStandardScalar\u001b[0m\u001b[0;34m\u001b[0m\u001b[0;34m\u001b[0m\u001b[0m\n\u001b[0m\u001b[1;32m      3\u001b[0m \u001b[0mdata\u001b[0m \u001b[0;34m=\u001b[0m \u001b[0masarray\u001b[0m\u001b[0;34m(\u001b[0m\u001b[0;34m[\u001b[0m\u001b[0;34m[\u001b[0m\u001b[0;36m100\u001b[0m\u001b[0;34m,\u001b[0m\u001b[0;36m0.001\u001b[0m\u001b[0;34m]\u001b[0m\u001b[0;34m,\u001b[0m\u001b[0;34m[\u001b[0m\u001b[0;36m8\u001b[0m\u001b[0;34m,\u001b[0m\u001b[0;36m0.05\u001b[0m\u001b[0;34m]\u001b[0m\u001b[0;34m,\u001b[0m\u001b[0;34m[\u001b[0m\u001b[0;36m50\u001b[0m\u001b[0;34m,\u001b[0m\u001b[0;36m0.005\u001b[0m\u001b[0;34m]\u001b[0m\u001b[0;34m,\u001b[0m\u001b[0;34m[\u001b[0m\u001b[0;36m88\u001b[0m\u001b[0;34m,\u001b[0m\u001b[0;36m0.07\u001b[0m\u001b[0;34m]\u001b[0m\u001b[0;34m,\u001b[0m\u001b[0;34m[\u001b[0m\u001b[0;36m4\u001b[0m\u001b[0;34m,\u001b[0m\u001b[0;36m0.1\u001b[0m\u001b[0;34m]\u001b[0m\u001b[0;34m]\u001b[0m\u001b[0;34m)\u001b[0m\u001b[0;34m\u001b[0m\u001b[0;34m\u001b[0m\u001b[0m\n\u001b[1;32m      4\u001b[0m \u001b[0mprint\u001b[0m\u001b[0;34m(\u001b[0m\u001b[0mdata\u001b[0m\u001b[0;34m)\u001b[0m\u001b[0;34m\u001b[0m\u001b[0;34m\u001b[0m\u001b[0m\n\u001b[1;32m      5\u001b[0m \u001b[0mscalar\u001b[0m\u001b[0;34m=\u001b[0m\u001b[0mStandardScalar\u001b[0m\u001b[0;34m(\u001b[0m\u001b[0;34m)\u001b[0m\u001b[0;34m\u001b[0m\u001b[0;34m\u001b[0m\u001b[0m\n",
            "\u001b[0;31mImportError\u001b[0m: cannot import name 'StandardScalar' from 'sklearn.preprocessing' (/usr/local/lib/python3.10/dist-packages/sklearn/preprocessing/__init__.py)",
            "",
            "\u001b[0;31m---------------------------------------------------------------------------\u001b[0;32m\nNOTE: If your import is failing due to a missing package, you can\nmanually install dependencies using either !pip or !apt.\n\nTo view examples of installing some common dependencies, click the\n\"Open Examples\" button below.\n\u001b[0;31m---------------------------------------------------------------------------\u001b[0m\n"
          ],
          "errorDetails": {
            "actions": [
              {
                "action": "open_url",
                "actionText": "Open Examples",
                "url": "/notebooks/snippets/importing_libraries.ipynb"
              }
            ]
          }
        }
      ]
    },
    {
      "cell_type": "code",
      "source": [
        "import numpy as np\n",
        "data = [1,2,2,2,3,1,1,15,2,2,2,3,1,1,2]\n",
        "mean = np.mean(data)\n",
        "std = np.std(data)\n",
        "print('mean of the dataset is ', mean)\n",
        "print('std.deviation is',std)\n",
        "threshold = 3\n",
        "outlier = []\n",
        "for i in data:\n",
        "  z = (i-mean)/std\n",
        "  if z > threshold:\n",
        "    outlier.append(i)\n",
        "    print('outlier in dataset is ',i)"
      ],
      "metadata": {
        "colab": {
          "base_uri": "https://localhost:8080/"
        },
        "id": "tXVZhf1_CqtT",
        "outputId": "ed5221ed-2cb0-4af0-dc6c-4885204d4ae0"
      },
      "execution_count": null,
      "outputs": [
        {
          "output_type": "stream",
          "name": "stdout",
          "text": [
            "mean of the dataset is  2.6666666666666665\n",
            "std.deviation is 3.3598941782277745\n",
            "outlier in dataset is  15\n"
          ]
        }
      ]
    },
    {
      "cell_type": "markdown",
      "source": [
        "**Interquartile range to detect Outliers in data**\n",
        "q1 represents the 25th percentile of data\n",
        "q2 represents the 50th percentile of data\n",
        "q2 represents the 75th percentile of data\n",
        "if a dataset has 2n/2n+1 data points,then\n",
        "q1 = median of the dataset.\n",
        "q2 = median of n smallest data points.\n"
      ],
      "metadata": {
        "id": "QUPElPXrHue5"
      }
    },
    {
      "cell_type": "code",
      "source": [
        "import numpy as np\n",
        "import seaborn as sns\n",
        "\n",
        "\n",
        "data = [6,2,3,4,5,1,50]\n",
        "sort_data = np.sort(data)\n",
        "sort_data"
      ],
      "metadata": {
        "colab": {
          "base_uri": "https://localhost:8080/"
        },
        "id": "eAQvfP9UF0fk",
        "outputId": "ddb1eaef-ae7f-4ef7-c230-b7bda6d0ca00"
      },
      "execution_count": null,
      "outputs": [
        {
          "output_type": "execute_result",
          "data": {
            "text/plain": [
              "array([ 1,  2,  3,  4,  5,  6, 50])"
            ]
          },
          "metadata": {},
          "execution_count": 3
        }
      ]
    },
    {
      "cell_type": "code",
      "source": [
        "def load_data():\n",
        "  df_all = pd.read_csv('/content/train.csv')\n",
        "  return df_all.loc[:300, ['Survived', 'Pclass', 'Sex', 'Cabin', 'Embarked']]\n",
        "  df = load_data()"
      ],
      "metadata": {
        "id": "3EaS4uh1KCN3"
      },
      "execution_count": null,
      "outputs": []
    },
    {
      "cell_type": "code",
      "source": [
        "df.duplicated(subset=['Survived','Pclass','Sex'])"
      ],
      "metadata": {
        "colab": {
          "base_uri": "https://localhost:8080/",
          "height": 148
        },
        "id": "AkypNjfMVGM6",
        "outputId": "27b6b60a-3476-4425-b4fe-39f46b9eff08"
      },
      "execution_count": null,
      "outputs": [
        {
          "output_type": "error",
          "ename": "NameError",
          "evalue": "name 'df' is not defined",
          "traceback": [
            "\u001b[0;31m---------------------------------------------------------------------------\u001b[0m",
            "\u001b[0;31mNameError\u001b[0m                                 Traceback (most recent call last)",
            "\u001b[0;32m<ipython-input-8-fe122d838599>\u001b[0m in \u001b[0;36m<cell line: 1>\u001b[0;34m()\u001b[0m\n\u001b[0;32m----> 1\u001b[0;31m \u001b[0mdf\u001b[0m\u001b[0;34m.\u001b[0m\u001b[0mduplicated\u001b[0m\u001b[0;34m(\u001b[0m\u001b[0msubset\u001b[0m\u001b[0;34m=\u001b[0m\u001b[0;34m[\u001b[0m\u001b[0;34m'Survived'\u001b[0m\u001b[0;34m,\u001b[0m\u001b[0;34m'Pclass'\u001b[0m\u001b[0;34m,\u001b[0m\u001b[0;34m'Sex'\u001b[0m\u001b[0;34m]\u001b[0m\u001b[0;34m)\u001b[0m\u001b[0;34m\u001b[0m\u001b[0;34m\u001b[0m\u001b[0m\n\u001b[0m",
            "\u001b[0;31mNameError\u001b[0m: name 'df' is not defined"
          ]
        }
      ]
    },
    {
      "cell_type": "code",
      "source": [
        "df.duplicated().Sum()"
      ],
      "metadata": {
        "colab": {
          "base_uri": "https://localhost:8080/",
          "height": 148
        },
        "id": "odNLVACqVgWB",
        "outputId": "5d614afb-1baf-4164-dbdf-b6b6c20e22ad"
      },
      "execution_count": null,
      "outputs": [
        {
          "output_type": "error",
          "ename": "NameError",
          "evalue": "name 'df' is not defined",
          "traceback": [
            "\u001b[0;31m---------------------------------------------------------------------------\u001b[0m",
            "\u001b[0;31mNameError\u001b[0m                                 Traceback (most recent call last)",
            "\u001b[0;32m<ipython-input-9-bf8b09335729>\u001b[0m in \u001b[0;36m<cell line: 1>\u001b[0;34m()\u001b[0m\n\u001b[0;32m----> 1\u001b[0;31m \u001b[0mdf\u001b[0m\u001b[0;34m.\u001b[0m\u001b[0mduplicated\u001b[0m\u001b[0;34m(\u001b[0m\u001b[0;34m)\u001b[0m\u001b[0;34m.\u001b[0m\u001b[0mSum\u001b[0m\u001b[0;34m(\u001b[0m\u001b[0;34m)\u001b[0m\u001b[0;34m\u001b[0m\u001b[0;34m\u001b[0m\u001b[0m\n\u001b[0m",
            "\u001b[0;31mNameError\u001b[0m: name 'df' is not defined"
          ]
        }
      ]
    },
    {
      "cell_type": "code",
      "source": [],
      "metadata": {
        "id": "qF93YQLMXZCC"
      },
      "execution_count": null,
      "outputs": []
    }
  ]
}